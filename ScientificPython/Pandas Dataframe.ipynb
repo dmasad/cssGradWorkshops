{
 "metadata": {
  "name": "Pandas Dataframe"
 },
 "nbformat": 3,
 "nbformat_minor": 0,
 "worksheets": [
  {
   "cells": [
    {
     "cell_type": "code",
     "collapsed": false,
     "input": [
      "import pandas"
     ],
     "language": "python",
     "metadata": {},
     "outputs": [],
     "prompt_number": 1
    },
    {
     "cell_type": "code",
     "collapsed": false,
     "input": [
      "!head MovieData.csv"
     ],
     "language": "python",
     "metadata": {},
     "outputs": [
      {
       "output_type": "stream",
       "stream": "stdout",
       "text": [
        "Release_Date\tMovie\tDistributor\tBudget\tUS\u00a0Gross\tWorldwide Gross\r\n",
        "03/09/12\tJohn Carter\t\t300000000\t66439100\t254439100\r\n",
        "05/25/07\tPirates of the Caribbean: At World's End\tBuena Vista\t300000000\t309420425\t960996492\r\n",
        "12/13/13\tThe Hobbit: There and Back Again\tNew Line\t270000000\tUnknown\tUnknown\r\n",
        "12/14/12\tThe Hobbit: An Unexpected Journey\tNew Line\t270000000\tUnknown\tUnknown\r\n",
        "11/24/10\tTangled\tBuena Vista\t260000000\t200821936\t586581936\r\n",
        "05/04/07\tSpider-Man 3\tSony\t258000000\t336530303\t890875303\r\n",
        "07/15/09\tHarry Potter and the Half-Blood Prince\tWarner Bros.\t250000000\t301959197\t934416487\r\n",
        "05/20/11\tPirates of the Caribbean: On Stranger Tides\tBuena Vista\t250000000\t241063875\t1043663875\r\n",
        "07/20/12\tThe Dark Knight Rises\t\t250000000\tUnknown\tUnknown\r\n"
       ]
      }
     ],
     "prompt_number": 2
    },
    {
     "cell_type": "code",
     "collapsed": false,
     "input": [
      "movie_df = pandas.DataFrame.from_csv(\"MovieData.csv\", sep=\"\\t\", index_col=None)"
     ],
     "language": "python",
     "metadata": {},
     "outputs": [],
     "prompt_number": 6
    },
    {
     "cell_type": "code",
     "collapsed": false,
     "input": [
      "movie_df.head()"
     ],
     "language": "python",
     "metadata": {},
     "outputs": [
      {
       "html": [
        "<div style=\"max-height:1000px;max-width:1500px;overflow:auto;\">\n",
        "<table border=\"1\" class=\"dataframe\">\n",
        "  <thead>\n",
        "    <tr style=\"text-align: right;\">\n",
        "      <th></th>\n",
        "      <th>Release_Date</th>\n",
        "      <th>Movie</th>\n",
        "      <th>Distributor</th>\n",
        "      <th>Budget</th>\n",
        "      <th>US\u00a0Gross</th>\n",
        "      <th>Worldwide Gross</th>\n",
        "    </tr>\n",
        "  </thead>\n",
        "  <tbody>\n",
        "    <tr>\n",
        "      <th>0</th>\n",
        "      <td> 03/09/12</td>\n",
        "      <td>                              John Carter</td>\n",
        "      <td>         NaN</td>\n",
        "      <td> 300000000</td>\n",
        "      <td>  66439100</td>\n",
        "      <td> 254439100</td>\n",
        "    </tr>\n",
        "    <tr>\n",
        "      <th>1</th>\n",
        "      <td> 05/25/07</td>\n",
        "      <td> Pirates of the Caribbean: At World's End</td>\n",
        "      <td> Buena Vista</td>\n",
        "      <td> 300000000</td>\n",
        "      <td> 309420425</td>\n",
        "      <td> 960996492</td>\n",
        "    </tr>\n",
        "    <tr>\n",
        "      <th>2</th>\n",
        "      <td> 12/13/13</td>\n",
        "      <td>         The Hobbit: There and Back Again</td>\n",
        "      <td>    New Line</td>\n",
        "      <td> 270000000</td>\n",
        "      <td>   Unknown</td>\n",
        "      <td>   Unknown</td>\n",
        "    </tr>\n",
        "    <tr>\n",
        "      <th>3</th>\n",
        "      <td> 12/14/12</td>\n",
        "      <td>        The Hobbit: An Unexpected Journey</td>\n",
        "      <td>    New Line</td>\n",
        "      <td> 270000000</td>\n",
        "      <td>   Unknown</td>\n",
        "      <td>   Unknown</td>\n",
        "    </tr>\n",
        "    <tr>\n",
        "      <th>4</th>\n",
        "      <td> 11/24/10</td>\n",
        "      <td>                                  Tangled</td>\n",
        "      <td> Buena Vista</td>\n",
        "      <td> 260000000</td>\n",
        "      <td> 200821936</td>\n",
        "      <td> 586581936</td>\n",
        "    </tr>\n",
        "  </tbody>\n",
        "</table>\n",
        "</div>"
       ],
       "output_type": "pyout",
       "prompt_number": 8,
       "text": [
        "  Release_Date                                     Movie  Distributor     Budget  \\\n",
        "0     03/09/12                               John Carter          NaN  300000000   \n",
        "1     05/25/07  Pirates of the Caribbean: At World's End  Buena Vista  300000000   \n",
        "2     12/13/13          The Hobbit: There and Back Again     New Line  270000000   \n",
        "3     12/14/12         The Hobbit: An Unexpected Journey     New Line  270000000   \n",
        "4     11/24/10                                   Tangled  Buena Vista  260000000   \n",
        "\n",
        "    US\u00a0Gross Worldwide Gross  \n",
        "0   66439100       254439100  \n",
        "1  309420425       960996492  \n",
        "2    Unknown         Unknown  \n",
        "3    Unknown         Unknown  \n",
        "4  200821936       586581936  "
       ]
      }
     ],
     "prompt_number": 8
    },
    {
     "cell_type": "code",
     "collapsed": false,
     "input": [
      "import matplotlib.pyplot as plt"
     ],
     "language": "python",
     "metadata": {},
     "outputs": [],
     "prompt_number": 16
    },
    {
     "cell_type": "code",
     "collapsed": false,
     "input": [
      "movie_df"
     ],
     "language": "python",
     "metadata": {},
     "outputs": [
      {
       "output_type": "pyout",
       "prompt_number": 18,
       "text": [
        "<class 'pandas.core.frame.DataFrame'>\n",
        "Int64Index: 3627 entries, 0 to 3626\n",
        "Data columns:\n",
        "Release_Date       3627  non-null values\n",
        "Movie              3627  non-null values\n",
        "Distributor        2968  non-null values\n",
        "Budget             3627  non-null values\n",
        "US\u00a0Gross           3627  non-null values\n",
        "Worldwide Gross    3627  non-null values\n",
        "dtypes: int64(1), object(5)"
       ]
      }
     ],
     "prompt_number": 18
    },
    {
     "cell_type": "code",
     "collapsed": false,
     "input": [
      "movie_df = movie_df.rename(columns={movie_df.columns[4]: \"US Gross\"})"
     ],
     "language": "python",
     "metadata": {},
     "outputs": [],
     "prompt_number": 29
    },
    {
     "cell_type": "code",
     "collapsed": false,
     "input": [
      "movie_df.dtypes"
     ],
     "language": "python",
     "metadata": {},
     "outputs": [
      {
       "output_type": "pyout",
       "prompt_number": 32,
       "text": [
        "Release_Date       object\n",
        "Movie              object\n",
        "Distributor        object\n",
        "Budget              int64\n",
        "US Gross           object\n",
        "Worldwide Gross    object"
       ]
      }
     ],
     "prompt_number": 32
    },
    {
     "cell_type": "code",
     "collapsed": false,
     "input": [
      "movie_df2 = pandas.read_csv(\"MovieData.csv\", sep=\"\\t\", index_col=None, na_values=[\"Unknown\", \"Unkno\"])"
     ],
     "language": "python",
     "metadata": {},
     "outputs": [],
     "prompt_number": 51
    },
    {
     "cell_type": "code",
     "collapsed": false,
     "input": [
      "movie_df2.dtypes"
     ],
     "language": "python",
     "metadata": {},
     "outputs": [
      {
       "output_type": "pyout",
       "prompt_number": 52,
       "text": [
        "Release_Date        object\n",
        "Movie               object\n",
        "Distributor         object\n",
        "Budget               int64\n",
        "US\u00a0Gross           float64\n",
        "Worldwide Gross    float64"
       ]
      }
     ],
     "prompt_number": 52
    },
    {
     "cell_type": "code",
     "collapsed": false,
     "input": [
      "movie_df = movie_df2.rename(columns={movie_df.columns[4]: \"US Gross\"})"
     ],
     "language": "python",
     "metadata": {},
     "outputs": [],
     "prompt_number": 53
    },
    {
     "cell_type": "code",
     "collapsed": false,
     "input": [
      "movie_df.dtypes"
     ],
     "language": "python",
     "metadata": {},
     "outputs": [
      {
       "output_type": "pyout",
       "prompt_number": 54,
       "text": [
        "Release_Date        object\n",
        "Movie               object\n",
        "Distributor         object\n",
        "Budget               int64\n",
        "US\u00a0Gross           float64\n",
        "Worldwide Gross    float64"
       ]
      }
     ],
     "prompt_number": 54
    },
    {
     "cell_type": "code",
     "collapsed": false,
     "input": [
      "movie_df = movie_df.rename(columns={movie_df.columns[4]: \"US Gross\"})"
     ],
     "language": "python",
     "metadata": {},
     "outputs": [],
     "prompt_number": 59
    },
    {
     "cell_type": "code",
     "collapsed": false,
     "input": [
      "plt.scatter(movie_df[\"Budget\"], movie_df[\"US Gross\"])"
     ],
     "language": "python",
     "metadata": {},
     "outputs": [
      {
       "output_type": "pyout",
       "prompt_number": 60,
       "text": [
        "<matplotlib.collections.PathCollection at 0x1090dbbd0>"
       ]
      },
      {
       "output_type": "display_data",
       "png": "[encoded data removed]"
      }
     ],
     "prompt_number": 60
    },
    {
     "cell_type": "code",
     "collapsed": false,
     "input": [
      "movie_df[\"Budget\"] = movie_df[\"Budget\"]/1000.0"
     ],
     "language": "python",
     "metadata": {},
     "outputs": [],
     "prompt_number": 68
    },
    {
     "cell_type": "code",
     "collapsed": false,
     "input": [
      "movie_df[\"Budget\"].describe()"
     ],
     "language": "python",
     "metadata": {},
     "outputs": [
      {
       "output_type": "pyout",
       "prompt_number": 69,
       "text": [
        "count      3627.000000\n",
        "mean      31570.720099\n",
        "std       37570.761121\n",
        "min           1.100000\n",
        "25%        6500.000000\n",
        "50%       19000.000000\n",
        "75%       42000.000000\n",
        "max      300000.000000"
       ]
      }
     ],
     "prompt_number": 69
    },
    {
     "cell_type": "code",
     "collapsed": false,
     "input": [
      "distributor_counts = movie_df.groupby(\"Distributor\")[\"Movie\"].aggregate(len)"
     ],
     "language": "python",
     "metadata": {},
     "outputs": [],
     "prompt_number": 90
    },
    {
     "cell_type": "code",
     "collapsed": false,
     "input": [
      "distributor_go.sort()"
     ],
     "language": "python",
     "metadata": {},
     "outputs": [],
     "prompt_number": 92
    },
    {
     "cell_type": "code",
     "collapsed": false,
     "input": [
      "distributor_counts"
     ],
     "language": "python",
     "metadata": {},
     "outputs": [
      {
       "output_type": "pyout",
       "prompt_number": 93,
       "text": [
        "Distributor\n",
        "3D Entertainment                   1\n",
        "8 X Entertainment                  1\n",
        "ART                                1\n",
        "Access                             1\n",
        "American International Pictures    1\n",
        "Artistic License                   1\n",
        "Atlantic                           1\n",
        "Attitude Films                     1\n",
        "Avatar                             1\n",
        "Barking Cow                        1\n",
        "Big Pictures                       1\n",
        "Bigger Picture                     1\n",
        "Black Diamond Pictures             1\n",
        "CFP                                1\n",
        "CHRIST                             1\n",
        "...\n",
        "Weinstein Co.          33\n",
        "Focus Features         36\n",
        "Fox Searchlight        65\n",
        "DreamWorks SKG         78\n",
        "Sony Classics          78\n",
        "Lion's Gate            79\n",
        "Miramax               135\n",
        "MGM/UA                137\n",
        "New Line              138\n",
        "Buena Vista           227\n",
        "20th Century Fox      230\n",
        "Paramount Pictures    258\n",
        "Universal             261\n",
        "Warner Bros.          311\n",
        "Sony                  312\n",
        "Name: Movie, Length: 208"
       ]
      }
     ],
     "prompt_number": 93
    },
    {
     "cell_type": "code",
     "collapsed": false,
     "input": [
      "distributor_gross = movie_df.groupby(\"Distributor\")[\"Worldwide Gross\"].aggregate(sum)"
     ],
     "language": "python",
     "metadata": {},
     "outputs": [],
     "prompt_number": 94
    },
    {
     "cell_type": "code",
     "collapsed": false,
     "input": [],
     "language": "python",
     "metadata": {},
     "outputs": [
      {
       "output_type": "pyout",
       "prompt_number": 97,
       "text": [
        "pandas.core.series.Series"
       ]
      }
     ],
     "prompt_number": 97
    },
    {
     "cell_type": "code",
     "collapsed": false,
     "input": [],
     "language": "python",
     "metadata": {},
     "outputs": []
    }
   ],
   "metadata": {}
  }
 ]
}