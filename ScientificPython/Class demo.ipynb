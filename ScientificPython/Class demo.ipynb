{
 "metadata": {
  "name": "Class demo"
 },
 "nbformat": 3,
 "nbformat_minor": 0,
 "worksheets": [
  {
   "cells": [
    {
     "cell_type": "code",
     "collapsed": false,
     "input": [
      "print a"
     ],
     "language": "python",
     "metadata": {},
     "outputs": [
      {
       "ename": "NameError",
       "evalue": "name 'a' is not defined",
       "output_type": "pyerr",
       "traceback": [
        "\u001b[0;31m---------------------------------------------------------------------------\u001b[0m\n\u001b[0;31mNameError\u001b[0m                                 Traceback (most recent call last)",
        "\u001b[0;32m<ipython-input-1-9d7b17ad5387>\u001b[0m in \u001b[0;36m<module>\u001b[0;34m()\u001b[0m\n\u001b[0;32m----> 1\u001b[0;31m \u001b[0;32mprint\u001b[0m \u001b[0ma\u001b[0m\u001b[0;34m\u001b[0m\u001b[0m\n\u001b[0m",
        "\u001b[0;31mNameError\u001b[0m: name 'a' is not defined"
       ]
      }
     ],
     "prompt_number": 1
    },
    {
     "cell_type": "code",
     "collapsed": false,
     "input": [
      "a = 5\n",
      "l = [1, 2, 3, \"blah\"]\n",
      "print a\n",
      "print l"
     ],
     "language": "python",
     "metadata": {},
     "outputs": []
    },
    {
     "cell_type": "code",
     "collapsed": false,
     "input": [
      "msg = \"Hello Shell\"\n",
      "!echo {msg}"
     ],
     "language": "python",
     "metadata": {},
     "outputs": [
      {
       "output_type": "stream",
       "stream": "stdout",
       "text": [
        "Hello Shell\r\n"
       ]
      }
     ],
     "prompt_number": 4
    },
    {
     "cell_type": "code",
     "collapsed": false,
     "input": [
      "map?"
     ],
     "language": "python",
     "metadata": {},
     "outputs": [],
     "prompt_number": 7
    },
    {
     "cell_type": "code",
     "collapsed": false,
     "input": [
      "def my_great_func():\n",
      "    '''\n",
      "    Here is my docstring! It's a pretty good one!\n",
      "    '''\n",
      "    pass"
     ],
     "language": "python",
     "metadata": {},
     "outputs": [],
     "prompt_number": 8
    },
    {
     "cell_type": "code",
     "collapsed": false,
     "input": [
      "my_great_func?"
     ],
     "language": "python",
     "metadata": {},
     "outputs": [],
     "prompt_number": 9
    },
    {
     "cell_type": "markdown",
     "metadata": {},
     "source": [
      "Headline\n",
      "--------\n",
      "\n",
      "### My great list\n",
      "1. One\n",
      "2. Two\n",
      "3. Three\n",
      "\n",
      "$$\\alpha$$"
     ]
    },
    {
     "cell_type": "code",
     "collapsed": false,
     "input": [
      "!pwd"
     ],
     "language": "python",
     "metadata": {},
     "outputs": [
      {
       "output_type": "stream",
       "stream": "stdout",
       "text": [
        "/Users/dmasad/Dropbox/cssGradWorkshops/ScientificPython\r\n"
       ]
      }
     ],
     "prompt_number": 10
    },
    {
     "cell_type": "heading",
     "level": 1,
     "metadata": {},
     "source": [
      "NumPy"
     ]
    },
    {
     "cell_type": "code",
     "collapsed": false,
     "input": [
      "import numpy as np"
     ],
     "language": "python",
     "metadata": {},
     "outputs": [],
     "prompt_number": 11
    },
    {
     "cell_type": "code",
     "collapsed": false,
     "input": [
      "# Arrays\n",
      "v1 = np.array([1,2,3])\n",
      "v2 = np.array([4,5,6])\n",
      "\n",
      "print v1\n",
      "print v2"
     ],
     "language": "python",
     "metadata": {},
     "outputs": [
      {
       "output_type": "stream",
       "stream": "stdout",
       "text": [
        "[1 2 3]\n",
        "[4 5 6]\n"
       ]
      }
     ],
     "prompt_number": 12
    },
    {
     "cell_type": "code",
     "collapsed": false,
     "input": [
      "# Operations\n",
      "print v1+v2\n",
      "print v1*v2\n",
      "print 2*v1"
     ],
     "language": "python",
     "metadata": {},
     "outputs": [
      {
       "output_type": "stream",
       "stream": "stdout",
       "text": [
        "[5 7 9]\n",
        "[ 4 10 18]\n",
        "[2 4 6]\n"
       ]
      }
     ],
     "prompt_number": 15
    },
    {
     "cell_type": "code",
     "collapsed": false,
     "input": [
      "# Sequence\n",
      "s1 = np.arange(0,25)\n",
      "print s1"
     ],
     "language": "python",
     "metadata": {},
     "outputs": [
      {
       "output_type": "stream",
       "stream": "stdout",
       "text": [
        "[ 0  1  2  3  4  5  6  7  8  9 10 11 12 13 14 15 16 17 18 19 20 21 22 23 24]\n"
       ]
      }
     ],
     "prompt_number": 17
    },
    {
     "cell_type": "code",
     "collapsed": false,
     "input": [
      "# Common error\n",
      "2/3\n",
      "2.0/3"
     ],
     "language": "python",
     "metadata": {},
     "outputs": [
      {
       "output_type": "pyout",
       "prompt_number": 19,
       "text": [
        "0.6666666666666666"
       ]
      }
     ],
     "prompt_number": 19
    },
    {
     "cell_type": "code",
     "collapsed": false,
     "input": [
      "v3 = np.array([12,123,2,2,4,5646,5,6,8,45,23,23])\n",
      "print v3"
     ],
     "language": "python",
     "metadata": {},
     "outputs": [
      {
       "output_type": "stream",
       "stream": "stdout",
       "text": [
        "[  12  123    2    2    4 5646    5    6    8   45   23   23]\n"
       ]
      }
     ],
     "prompt_number": 20
    },
    {
     "cell_type": "code",
     "collapsed": false,
     "input": [
      "# Max min\n",
      "print np.max(v3)\n",
      "print np.min(v3)"
     ],
     "language": "python",
     "metadata": {},
     "outputs": [
      {
       "output_type": "stream",
       "stream": "stdout",
       "text": [
        "5646\n",
        "2\n"
       ]
      }
     ],
     "prompt_number": 22
    },
    {
     "cell_type": "code",
     "collapsed": false,
     "input": [
      "# Sum\n",
      "print 1.0*np.sum(v3)"
     ],
     "language": "python",
     "metadata": {},
     "outputs": [
      {
       "output_type": "stream",
       "stream": "stdout",
       "text": [
        "5899.0\n"
       ]
      }
     ],
     "prompt_number": 24
    },
    {
     "cell_type": "code",
     "collapsed": false,
     "input": [
      "# Cumsun\n",
      "print np.cumsum(v3)"
     ],
     "language": "python",
     "metadata": {},
     "outputs": [
      {
       "output_type": "stream",
       "stream": "stdout",
       "text": [
        "[  12  135  137  139  143 5789 5794 5800 5808 5853 5876 5899]\n"
       ]
      }
     ],
     "prompt_number": 25
    },
    {
     "cell_type": "code",
     "collapsed": false,
     "input": [
      "# Moments\n",
      "print np.mean(v3)\n",
      "print np.var(v3)\n",
      "print np.std(v3)\n",
      "print np.median(v3)"
     ],
     "language": "python",
     "metadata": {},
     "outputs": [
      {
       "output_type": "stream",
       "stream": "stdout",
       "text": [
        "491.583333333\n",
        "2416330.90972\n",
        "1554.455181\n",
        "10.0\n"
       ]
      }
     ],
     "prompt_number": 29
    },
    {
     "cell_type": "code",
     "collapsed": false,
     "input": [
      "import scipy.stats as st\n",
      "print st.mode(v3)\n",
      "print st.skew(v3)\n",
      "print st.kurtosis(v3)"
     ],
     "language": "python",
     "metadata": {},
     "outputs": [
      {
       "output_type": "stream",
       "stream": "stdout",
       "text": [
        "(array([ 2.]), array([ 2.]))\n",
        "3.01276081438\n",
        "7.08229532837\n"
       ]
      }
     ],
     "prompt_number": 33
    },
    {
     "cell_type": "code",
     "collapsed": false,
     "input": [
      "# log exp\n",
      "print np.log(v3)\n",
      "print np.exp(v3)"
     ],
     "language": "python",
     "metadata": {},
     "outputs": [
      {
       "output_type": "stream",
       "stream": "stdout",
       "text": [
        "[ 2.48490665  4.81218436  0.69314718  0.69314718  1.38629436  8.63870261\n",
        "  1.60943791  1.79175947  2.07944154  3.80666249  3.13549422  3.13549422]\n",
        "[  1.62754791e+05   2.61951732e+53   7.38905610e+00   7.38905610e+00\n",
        "   5.45981500e+01              inf   1.48413159e+02   4.03428793e+02\n",
        "   2.98095799e+03   3.49342711e+19   9.74480345e+09   9.74480345e+09]\n"
       ]
      },
      {
       "output_type": "stream",
       "stream": "stderr",
       "text": [
        "-c:3: RuntimeWarning: overflow encountered in exp\n"
       ]
      }
     ],
     "prompt_number": 37
    },
    {
     "cell_type": "code",
     "collapsed": false,
     "input": [
      "# unique\n",
      "print np.unique(v3)"
     ],
     "language": "python",
     "metadata": {},
     "outputs": [
      {
       "output_type": "stream",
       "stream": "stdout",
       "text": [
        "[   2    4    5    6    8   12   23   45  123 5646]\n"
       ]
      }
     ],
     "prompt_number": 38
    },
    {
     "cell_type": "code",
     "collapsed": false,
     "input": [
      "# Linspace\n",
      "print np.linspace(1,5,10)"
     ],
     "language": "python",
     "metadata": {},
     "outputs": [
      {
       "output_type": "stream",
       "stream": "stdout",
       "text": [
        "[ 1.          1.44444444  1.88888889  2.33333333  2.77777778  3.22222222\n",
        "  3.66666667  4.11111111  4.55555556  5.        ]\n"
       ]
      }
     ],
     "prompt_number": 39
    },
    {
     "cell_type": "code",
     "collapsed": false,
     "input": [
      "# Logspace\n",
      "print np.logspace(1,5,10)"
     ],
     "language": "python",
     "metadata": {},
     "outputs": [
      {
       "output_type": "stream",
       "stream": "stdout",
       "text": [
        "[  1.00000000e+01   2.78255940e+01   7.74263683e+01   2.15443469e+02\n",
        "   5.99484250e+02   1.66810054e+03   4.64158883e+03   1.29154967e+04\n",
        "   3.59381366e+04   1.00000000e+05]\n"
       ]
      }
     ],
     "prompt_number": 40
    },
    {
     "cell_type": "code",
     "collapsed": false,
     "input": [
      "print np.zeros(10)\n",
      "print np.ones(10)"
     ],
     "language": "python",
     "metadata": {},
     "outputs": [
      {
       "output_type": "stream",
       "stream": "stdout",
       "text": [
        "[ 0.  0.  0.  0.  0.  0.  0.  0.  0.  0.]\n",
        "[ 1.  1.  1.  1.  1.  1.  1.  1.  1.  1.]\n"
       ]
      }
     ],
     "prompt_number": 43
    },
    {
     "cell_type": "code",
     "collapsed": false,
     "input": [
      "# manipulation\n",
      "print v3\n",
      "print v3[::-1]"
     ],
     "language": "python",
     "metadata": {},
     "outputs": [
      {
       "output_type": "stream",
       "stream": "stdout",
       "text": [
        "[  12  123    2    2    4 5646    5    6    8   45   23   23]\n",
        "[  23   23   45    8    6    5 5646    4    2    2  123   12]\n"
       ]
      }
     ],
     "prompt_number": 47
    },
    {
     "cell_type": "code",
     "collapsed": false,
     "input": [
      "# not last\n",
      "print v3[:-1]"
     ],
     "language": "python",
     "metadata": {},
     "outputs": [
      {
       "output_type": "stream",
       "stream": "stdout",
       "text": [
        "[  12  123    2    2    4 5646    5    6    8   45   23]\n"
       ]
      }
     ],
     "prompt_number": 48
    },
    {
     "cell_type": "code",
     "collapsed": false,
     "input": [
      "# Pick intermediate elements\n",
      "print v3\n",
      "print v3[5:10]\n",
      "print v3[3:15:2]"
     ],
     "language": "python",
     "metadata": {},
     "outputs": [
      {
       "output_type": "stream",
       "stream": "stdout",
       "text": [
        "[  12  123    2    2    4 5646    5    6    8   45   23   23]\n",
        "[5646    5    6    8   45]\n",
        "[   2 5646    6   45   23]\n"
       ]
      }
     ],
     "prompt_number": 51
    },
    {
     "cell_type": "code",
     "collapsed": false,
     "input": [
      "# Concatenation\n",
      "print v1\n",
      "print v2\n",
      "print np.append(v1,v2)"
     ],
     "language": "python",
     "metadata": {},
     "outputs": [
      {
       "output_type": "stream",
       "stream": "stdout",
       "text": [
        "[1 2 3]\n",
        "[4 5 6]\n",
        "[1 2 3 4 5 6]\n"
       ]
      }
     ],
     "prompt_number": 52
    },
    {
     "cell_type": "code",
     "collapsed": false,
     "input": [
      "# Random numbers\n",
      "print np.random.rand()\n",
      "print np.random.randint(20,100)"
     ],
     "language": "python",
     "metadata": {},
     "outputs": [
      {
       "output_type": "stream",
       "stream": "stdout",
       "text": [
        "0.446130364121\n",
        "78\n"
       ]
      }
     ],
     "prompt_number": 57
    },
    {
     "cell_type": "code",
     "collapsed": false,
     "input": [
      "print np.random.randn(15)"
     ],
     "language": "python",
     "metadata": {},
     "outputs": [
      {
       "output_type": "stream",
       "stream": "stdout",
       "text": [
        "[-0.21556058 -0.8088313   0.36583831 -0.14116355  0.25973407  1.36605218\n",
        " -1.13641379  0.78626953  1.23263254  0.72409948  1.6615504   0.50425322\n",
        " -2.32148758 -0.53136011  0.52159063]\n"
       ]
      }
     ],
     "prompt_number": 60
    },
    {
     "cell_type": "code",
     "collapsed": false,
     "input": [
      "print np.random.zipf(2, 25)"
     ],
     "language": "python",
     "metadata": {},
     "outputs": [
      {
       "output_type": "stream",
       "stream": "stdout",
       "text": [
        "[ 4  1  4  1  1  1  5  3  4  2  1  1  1  1  1 25  9  1  4  1  1  1  1  1  1]\n"
       ]
      }
     ],
     "prompt_number": 61
    },
    {
     "cell_type": "code",
     "collapsed": false,
     "input": [
      "# Sorting\n",
      "print v3\n",
      "print np.sort(v3)\n",
      "v4 = np.sort(v3)\n",
      "np.random.shuffle(v4)\n",
      "print v4"
     ],
     "language": "python",
     "metadata": {},
     "outputs": [
      {
       "output_type": "stream",
       "stream": "stdout",
       "text": [
        "[  12  123    2    2    4 5646    5    6    8   45   23   23]\n",
        "[   2    2    4    5    6    8   12   23   23   45  123 5646]\n",
        "[   8   12   45   23    6  123    2   23    4 5646    2    5]\n"
       ]
      }
     ],
     "prompt_number": 66
    },
    {
     "cell_type": "code",
     "collapsed": false,
     "input": [
      "# Logical Indexing\n",
      "print v3<100\n",
      "print v3[v3<100]\n",
      "print np.sum(v3[v3<100])"
     ],
     "language": "python",
     "metadata": {},
     "outputs": [
      {
       "output_type": "stream",
       "stream": "stdout",
       "text": [
        "[ True False  True  True  True False  True  True  True  True  True  True]\n",
        "[12  2  2  4  5  6  8 45 23 23]\n",
        "130\n"
       ]
      }
     ],
     "prompt_number": 69
    },
    {
     "cell_type": "code",
     "collapsed": false,
     "input": [
      "# Where\n",
      "vb = v3<200\n",
      "print vb\n",
      "print np.where(vb)"
     ],
     "language": "python",
     "metadata": {},
     "outputs": [
      {
       "output_type": "stream",
       "stream": "stdout",
       "text": [
        "[ True  True  True  True  True False  True  True  True  True  True  True]\n",
        "(array([ 0,  1,  2,  3,  4,  6,  7,  8,  9, 10, 11]),)\n"
       ]
      }
     ],
     "prompt_number": 76
    },
    {
     "cell_type": "code",
     "collapsed": false,
     "input": [
      "M = np.array([ [1, 2, 3], [4, 5, 6], [7, 8, 9]])\n",
      "print M"
     ],
     "language": "python",
     "metadata": {},
     "outputs": [
      {
       "output_type": "stream",
       "stream": "stdout",
       "text": [
        "[[1 2 3]\n",
        " [4 5 6]\n",
        " [7 8 9]]\n"
       ]
      }
     ],
     "prompt_number": 77
    },
    {
     "cell_type": "code",
     "collapsed": false,
     "input": [
      "print M[:,0]\n",
      "print M.shape\n",
      "print M.size\n",
      "print M.ndim"
     ],
     "language": "python",
     "metadata": {},
     "outputs": [
      {
       "output_type": "stream",
       "stream": "stdout",
       "text": [
        "[1 4 7]\n",
        "(3, 3)\n",
        "9\n",
        "2\n"
       ]
      }
     ],
     "prompt_number": 83
    },
    {
     "cell_type": "code",
     "collapsed": false,
     "input": [
      "v1 = np.array([1,1,1])\n",
      "print np.dot(v1, M)"
     ],
     "language": "python",
     "metadata": {},
     "outputs": [
      {
       "output_type": "stream",
       "stream": "stdout",
       "text": [
        "[12 15 18]\n"
       ]
      }
     ],
     "prompt_number": 84
    },
    {
     "cell_type": "code",
     "collapsed": false,
     "input": [
      "M.dot(v1)"
     ],
     "language": "python",
     "metadata": {},
     "outputs": [
      {
       "output_type": "pyout",
       "prompt_number": 85,
       "text": [
        "array([ 6, 15, 24])"
       ]
      }
     ],
     "prompt_number": 85
    },
    {
     "cell_type": "code",
     "collapsed": false,
     "input": [
      "!head MovieData.csv"
     ],
     "language": "python",
     "metadata": {},
     "outputs": [
      {
       "output_type": "stream",
       "stream": "stdout",
       "text": [
        "Release_Date\tMovie\tDistributor\tBudget\tUS\u00a0Gross\tWorldwide Gross\r\n",
        "03/09/12\tJohn Carter\t\t300000000\t66439100\t254439100\r\n",
        "05/25/07\tPirates of the Caribbean: At World's End\tBuena Vista\t300000000\t309420425\t960996492\r\n",
        "12/13/13\tThe Hobbit: There and Back Again\tNew Line\t270000000\tUnknown\tUnknown\r\n",
        "12/14/12\tThe Hobbit: An Unexpected Journey\tNew Line\t270000000\tUnknown\tUnknown\r\n",
        "11/24/10\tTangled\tBuena Vista\t260000000\t200821936\t586581936\r\n",
        "05/04/07\tSpider-Man 3\tSony\t258000000\t336530303\t890875303\r\n",
        "07/15/09\tHarry Potter and the Half-Blood Prince\tWarner Bros.\t250000000\t301959197\t934416487\r\n",
        "05/20/11\tPirates of the Caribbean: On Stranger Tides\tBuena Vista\t250000000\t241063875\t1043663875\r\n",
        "07/20/12\tThe Dark Knight Rises\t\t250000000\tUnknown\tUnknown\r\n"
       ]
      }
     ],
     "prompt_number": 86
    },
    {
     "cell_type": "code",
     "collapsed": false,
     "input": [
      "%pylab inline"
     ],
     "language": "python",
     "metadata": {},
     "outputs": [
      {
       "output_type": "stream",
       "stream": "stdout",
       "text": [
        "\n",
        "Welcome to pylab, a matplotlib-based Python environment [backend: module://IPython.zmq.pylab.backend_inline].\n",
        "For more information, type 'help(pylab)'.\n"
       ]
      }
     ],
     "prompt_number": 87
    },
    {
     "cell_type": "code",
     "collapsed": false,
     "input": [
      "import numpy as np\n",
      "import matplotlib.pyplot as plt"
     ],
     "language": "python",
     "metadata": {},
     "outputs": [],
     "prompt_number": 1
    },
    {
     "cell_type": "code",
     "collapsed": false,
     "input": [
      "v1 = np.random.randn(1000)"
     ],
     "language": "python",
     "metadata": {},
     "outputs": [],
     "prompt_number": 2
    },
    {
     "cell_type": "code",
     "collapsed": false,
     "input": [
      "plt.hist(v1)"
     ],
     "language": "python",
     "metadata": {},
     "outputs": [
      {
       "output_type": "pyout",
       "prompt_number": 4,
       "text": [
        "(array([  2,   6,  57, 135, 233, 266, 202,  80,  16,   3]),\n",
        " array([-3.54255882, -2.86998586, -2.1974129 , -1.52483993, -0.85226697,\n",
        "       -0.17969401,  0.49287895,  1.16545191,  1.83802487,  2.51059783,\n",
        "        3.18317079]),\n",
        " <a list of 10 Patch objects>)"
       ]
      },
      {
       "output_type": "display_data",
       "png": "[encoded data removed]"
      }
     ],
     "prompt_number": 4
    },
    {
     "cell_type": "code",
     "collapsed": false,
     "input": [
      "fig1 = plt.figure(figsize=(8,8))\n",
      "subplot1 = plt.subplot(1,1,1)\n",
      "subplot1.hist(v1, bins=[-4,-1,1,4])\n",
      "subplot1.set_xlabel(\"X\")\n",
      "subplot1.set_ylabel(\"Y\")\n",
      "subplot1.set_title(\"My title!\")"
     ],
     "language": "python",
     "metadata": {},
     "outputs": [
      {
       "output_type": "pyout",
       "prompt_number": 12,
       "text": [
        "<matplotlib.text.Text at 0x108b0a550>"
       ]
      },
      {
       "output_type": "display_data",
       "png": "[encoded data removed]"
      }
     ],
     "prompt_number": 12
    },
    {
     "cell_type": "code",
     "collapsed": false,
     "input": [
      "v2 = np.random.randn(1000)"
     ],
     "language": "python",
     "metadata": {},
     "outputs": [],
     "prompt_number": 8
    },
    {
     "cell_type": "code",
     "collapsed": false,
     "input": [
      "fig2 = plt.figure(figsize=(8,8))\n",
      "subplot1 = plt.subplot(1,1,1)\n",
      "subplot1.scatter(v1, v2)"
     ],
     "language": "python",
     "metadata": {},
     "outputs": [
      {
       "output_type": "pyout",
       "prompt_number": 9,
       "text": [
        "<matplotlib.collections.PathCollection at 0x10679e510>"
       ]
      },
      {
       "output_type": "display_data",
       "png": "[encoded data removed]"
      }
     ],
     "prompt_number": 9
    },
    {
     "cell_type": "code",
     "collapsed": false,
     "input": [],
     "language": "python",
     "metadata": {},
     "outputs": []
    }
   ],
   "metadata": {}
  }
 ]
}