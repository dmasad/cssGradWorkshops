{
 "metadata": {
  "name": "Intro to Scientific Python"
 },
 "nbformat": 3,
 "nbformat_minor": 0,
 "worksheets": [
  {
   "cells": [
    {
     "cell_type": "markdown",
     "metadata": {},
     "source": [
      "Intro to scientific computing with the IPython Notebook\n",
      "=======================================================\n",
      "\n",
      "### Outline:\n",
      "\n",
      "1. Basic notebook usage, magic functions\n",
      "2. NumPy, with a focus on arrays\n",
      "3. Plotting arrays with MatPlotLib\n",
      "4. Numpy + SciPy + Matplotlib"
     ]
    },
    {
     "cell_type": "markdown",
     "metadata": {},
     "source": [
      "Basic notebook usage\n",
      "---------------------\n",
      "\n",
      "Similar to Mathematica notebook.\n",
      "\n",
      "Each cell is run independently. Single Python kernel running each notebook.\n",
      "\n",
      "IPython is integrated with the shell, using the ! mark, eg:\n"
     ]
    },
    {
     "cell_type": "code",
     "collapsed": false,
     "input": [
      "!echo \"test\""
     ],
     "language": "python",
     "metadata": {},
     "outputs": [
      {
       "output_type": "stream",
       "stream": "stdout",
       "text": [
        "test\r\n"
       ]
      }
     ],
     "prompt_number": 1
    },
    {
     "cell_type": "markdown",
     "metadata": {},
     "source": [
      "This can also be integrated with python variables, eg:"
     ]
    },
    {
     "cell_type": "code",
     "collapsed": false,
     "input": [
      "msg = \"Hello world!\"\n",
      "!echo {msg}\n"
     ],
     "language": "python",
     "metadata": {},
     "outputs": [
      {
       "output_type": "stream",
       "stream": "stdout",
       "text": [
        "Hello world!\r\n"
       ]
      }
     ],
     "prompt_number": 2
    },
    {
     "cell_type": "markdown",
     "metadata": {},
     "source": [
      "There are also magic commands, which start with a %"
     ]
    },
    {
     "cell_type": "code",
     "collapsed": false,
     "input": [
      "%%timeit\n",
      "a = 1\n",
      "for i in range(10000000):\n",
      "    a += i\n",
      "print a"
     ],
     "language": "python",
     "metadata": {},
     "outputs": [
      {
       "output_type": "stream",
       "stream": "stdout",
       "text": [
        "49999995000001\n",
        "49999995000001"
       ]
      },
      {
       "output_type": "stream",
       "stream": "stdout",
       "text": [
        "\n",
        "49999995000001"
       ]
      },
      {
       "output_type": "stream",
       "stream": "stdout",
       "text": [
        "\n",
        "49999995000001"
       ]
      },
      {
       "output_type": "stream",
       "stream": "stdout",
       "text": [
        "\n",
        "1 loops, best of 3: 548 ms per loop\n"
       ]
      }
     ],
     "prompt_number": 3
    },
    {
     "cell_type": "markdown",
     "metadata": {},
     "source": [
      "Some other commands are:\n",
      "\n",
      "    %load\n",
      "    %run\n",
      "\n",
      "To learn more about magic commands, just enter:"
     ]
    },
    {
     "cell_type": "code",
     "collapsed": false,
     "input": [
      "%magic"
     ],
     "language": "python",
     "metadata": {},
     "outputs": [],
     "prompt_number": 4
    },
    {
     "cell_type": "markdown",
     "metadata": {},
     "source": [
      "Tab-completion lets you explore the current objects loaded in the environment.\n",
      "\n",
      "View the docstring with the '?', as in:"
     ]
    },
    {
     "cell_type": "code",
     "collapsed": false,
     "input": [
      "map?"
     ],
     "language": "python",
     "metadata": {},
     "outputs": [],
     "prompt_number": 5
    },
    {
     "cell_type": "markdown",
     "metadata": {},
     "source": [
      "We can create code samples with automatic syntax highlighting by indenting four spaces, as in:\n",
      "\n",
      "    def hello_world():\n",
      "        output = \"Hello world!\"\n",
      "        for letter in output:\n",
      "            print letter\n",
      "\n",
      "\n",
      "\n",
      "It also plays nice with LaTeX, as in: \n",
      "\n",
      "$$x = \\frac{{ - b \\pm \\sqrt {b^2 - 4ac} }}{{2a}}$$\n"
     ]
    },
    {
     "cell_type": "markdown",
     "metadata": {},
     "source": [
      "NumPy\n",
      "-----\n",
      "\n",
      "NumPy is a library for fast vector and matrix support that implements the underlying routines in C and FORTRAN (really!).\n",
      "\n",
      "Some examples:"
     ]
    },
    {
     "cell_type": "code",
     "collapsed": false,
     "input": [
      "import numpy as np # This is the traditional abbreviation"
     ],
     "language": "python",
     "metadata": {},
     "outputs": [],
     "prompt_number": 6
    },
    {
     "cell_type": "code",
     "collapsed": false,
     "input": [
      "# Basic vectors:\n",
      "v1 = np.array([1, 2, 3])\n",
      "v2 = np.array([4, 5, 6])\n",
      "\n",
      "# Operations are vector-wise as opposed to list-based\n",
      "print \"v1 * 2 = \", v1 * 2\n",
      "print \"v1 + v2 = \", v1 + v2\n",
      "print \"v1 * v2 = \", v1 * v2"
     ],
     "language": "python",
     "metadata": {},
     "outputs": [
      {
       "output_type": "stream",
       "stream": "stdout",
       "text": [
        "v1 * 2 =  [2 4 6]\n",
        "v1 + v2 =  [5 7 9]\n",
        "v1 * v2 =  [ 4 10 18]\n"
       ]
      }
     ],
     "prompt_number": 7
    },
    {
     "cell_type": "code",
     "collapsed": false,
     "input": [
      "# A vector of sequential numbers\n",
      "s1 = np.arange(0,25)\n",
      "print s1"
     ],
     "language": "python",
     "metadata": {},
     "outputs": [
      {
       "output_type": "stream",
       "stream": "stdout",
       "text": [
        "[ 0  1  2  3  4  5  6  7  8  9 10 11 12 13 14 15 16 17 18 19 20 21 22 23 24]\n"
       ]
      }
     ],
     "prompt_number": 8
    },
    {
     "cell_type": "markdown",
     "metadata": {},
     "source": [
      "Basic but helpful functions"
     ]
    },
    {
     "cell_type": "code",
     "collapsed": false,
     "input": [
      "# Notice that divisions of integers are rounded\n",
      "print 2/3\n",
      "print 2.0/3"
     ],
     "language": "python",
     "metadata": {},
     "outputs": [
      {
       "output_type": "stream",
       "stream": "stdout",
       "text": [
        "0\n",
        "0.666666666667\n"
       ]
      }
     ],
     "prompt_number": 9
    },
    {
     "cell_type": "code",
     "collapsed": false,
     "input": [
      "# A random vector\n",
      "v3 = np.array([1,2,4,67,3,2,6,86,5,343,2,5,65,7,78,9,65,43,223,5,657,76,86,5,3,23])\n",
      "print v3"
     ],
     "language": "python",
     "metadata": {},
     "outputs": [
      {
       "output_type": "stream",
       "stream": "stdout",
       "text": [
        "[  1   2   4  67   3   2   6  86   5 343   2   5  65   7  78   9  65  43\n",
        " 223   5 657  76  86   5   3  23]\n"
       ]
      }
     ],
     "prompt_number": 10
    },
    {
     "cell_type": "code",
     "collapsed": false,
     "input": [
      "# Maximum & minimum\n",
      "print np.max(v3)\n",
      "print np.min(v3)"
     ],
     "language": "python",
     "metadata": {},
     "outputs": [
      {
       "output_type": "stream",
       "stream": "stdout",
       "text": [
        "657\n",
        "1\n"
       ]
      }
     ],
     "prompt_number": 11
    },
    {
     "cell_type": "code",
     "collapsed": false,
     "input": [
      "# Sum all elements\n",
      "print np.sum(v3)"
     ],
     "language": "python",
     "metadata": {},
     "outputs": [
      {
       "output_type": "stream",
       "stream": "stdout",
       "text": [
        "1871\n"
       ]
      }
     ],
     "prompt_number": 12
    },
    {
     "cell_type": "code",
     "collapsed": false,
     "input": [
      "# Cummulative sum\n",
      "print np.cumsum(v3)"
     ],
     "language": "python",
     "metadata": {},
     "outputs": [
      {
       "output_type": "stream",
       "stream": "stdout",
       "text": [
        "[   1    3    7   74   77   79   85  171  176  519  521  526  591  598  676\n",
        "  685  750  793 1016 1021 1678 1754 1840 1845 1848 1871]\n"
       ]
      }
     ],
     "prompt_number": 13
    },
    {
     "cell_type": "code",
     "collapsed": false,
     "input": [
      "# Moments\n",
      "print np.mean(v3)\n",
      "print np.var(v3)\n",
      "print np.std(v3)\n",
      "print np.median(v3)"
     ],
     "language": "python",
     "metadata": {},
     "outputs": [
      {
       "output_type": "stream",
       "stream": "stdout",
       "text": [
        "71.9615384615\n",
        "19487.2677515\n",
        "139.596804231\n",
        "8.0\n"
       ]
      }
     ],
     "prompt_number": 14
    },
    {
     "cell_type": "code",
     "collapsed": false,
     "input": [
      "# Higher moments require scipy\n",
      "import scipy.stats as st\n",
      "print st.mode(v3)\n",
      "print st.skew(v3)\n",
      "print st.kurtosis(v3)"
     ],
     "language": "python",
     "metadata": {},
     "outputs": [
      {
       "output_type": "stream",
       "stream": "stdout",
       "text": [
        "(array([ 5.]), array([ 4.]))\n",
        "3.09765085586\n",
        "9.49484419517\n"
       ]
      }
     ],
     "prompt_number": 15
    },
    {
     "cell_type": "code",
     "collapsed": false,
     "input": [
      "# Log and Exp of a number (or vector)\n",
      "print np.log(v3)\n",
      "print np.exp(v3)"
     ],
     "language": "python",
     "metadata": {},
     "outputs": [
      {
       "output_type": "stream",
       "stream": "stdout",
       "text": [
        "[ 0.          0.69314718  1.38629436  4.20469262  1.09861229  0.69314718\n",
        "  1.79175947  4.4543473   1.60943791  5.83773045  0.69314718  1.60943791\n",
        "  4.17438727  1.94591015  4.35670883  2.19722458  4.17438727  3.76120012\n",
        "  5.40717177  1.60943791  6.48768402  4.33073334  4.4543473   1.60943791\n",
        "  1.09861229  3.13549422]\n",
        "[  2.71828183e+000   7.38905610e+000   5.45981500e+001   1.25236317e+029\n",
        "   2.00855369e+001   7.38905610e+000   4.03428793e+002   2.23524660e+037\n",
        "   1.48413159e+002   9.18348018e+148   7.38905610e+000   1.48413159e+002\n",
        "   1.69488924e+028   1.09663316e+003   7.49841700e+033   8.10308393e+003\n",
        "   1.69488924e+028   4.72783947e+018   7.04156941e+096   1.48413159e+002\n",
        "   2.14523370e+285   1.01480039e+033   2.23524660e+037   1.48413159e+002\n",
        "   2.00855369e+001   9.74480345e+009]\n"
       ]
      }
     ],
     "prompt_number": 16
    },
    {
     "cell_type": "code",
     "collapsed": false,
     "input": [
      "# Get unique elements\n",
      "print np.unique(v3)"
     ],
     "language": "python",
     "metadata": {},
     "outputs": [
      {
       "output_type": "stream",
       "stream": "stdout",
       "text": [
        "[  1   2   3   4   5   6   7   9  23  43  65  67  76  78  86 223 343 657]\n"
       ]
      }
     ],
     "prompt_number": 17
    },
    {
     "cell_type": "code",
     "collapsed": false,
     "input": [
      "# Powers and roots\n",
      "print 10**(1.0/2)\n",
      "print np.sqrt(10)"
     ],
     "language": "python",
     "metadata": {},
     "outputs": [
      {
       "output_type": "stream",
       "stream": "stdout",
       "text": [
        "3.16227766017\n",
        "3.16227766017\n"
       ]
      }
     ],
     "prompt_number": 18
    },
    {
     "cell_type": "code",
     "collapsed": false,
     "input": [
      "# Linearly distributed N numbers\n",
      "print np.linspace(1,100,12)"
     ],
     "language": "python",
     "metadata": {},
     "outputs": [
      {
       "output_type": "stream",
       "stream": "stdout",
       "text": [
        "[   1.   10.   19.   28.   37.   46.   55.   64.   73.   82.   91.  100.]\n"
       ]
      }
     ],
     "prompt_number": 19
    },
    {
     "cell_type": "code",
     "collapsed": false,
     "input": [
      "# Logarithmically distributed N numbers\n",
      "print np.logspace(1,5,10)"
     ],
     "language": "python",
     "metadata": {},
     "outputs": [
      {
       "output_type": "stream",
       "stream": "stdout",
       "text": [
        "[  1.00000000e+01   2.78255940e+01   7.74263683e+01   2.15443469e+02\n",
        "   5.99484250e+02   1.66810054e+03   4.64158883e+03   1.29154967e+04\n",
        "   3.59381366e+04   1.00000000e+05]\n"
       ]
      }
     ],
     "prompt_number": 20
    },
    {
     "cell_type": "code",
     "collapsed": false,
     "input": [
      "# An array of zeros and one of ones\n",
      "print np.zeros(10)\n",
      "print np.ones(10)"
     ],
     "language": "python",
     "metadata": {},
     "outputs": [
      {
       "output_type": "stream",
       "stream": "stdout",
       "text": [
        "[ 0.  0.  0.  0.  0.  0.  0.  0.  0.  0.]\n",
        "[ 1.  1.  1.  1.  1.  1.  1.  1.  1.  1.]\n"
       ]
      }
     ],
     "prompt_number": 21
    },
    {
     "cell_type": "markdown",
     "metadata": {},
     "source": [
      "Manipulation of vectors"
     ]
    },
    {
     "cell_type": "code",
     "collapsed": false,
     "input": [
      "# Invert order\n",
      "print s1[::-1]"
     ],
     "language": "python",
     "metadata": {},
     "outputs": [
      {
       "output_type": "stream",
       "stream": "stdout",
       "text": [
        "[24 23 22 21 20 19 18 17 16 15 14 13 12 11 10  9  8  7  6  5  4  3  2  1  0]\n"
       ]
      }
     ],
     "prompt_number": 22
    },
    {
     "cell_type": "code",
     "collapsed": false,
     "input": [
      "# Pick all but the last element\n",
      "print s1[:-1]"
     ],
     "language": "python",
     "metadata": {},
     "outputs": [
      {
       "output_type": "stream",
       "stream": "stdout",
       "text": [
        "[ 0  1  2  3  4  5  6  7  8  9 10 11 12 13 14 15 16 17 18 19 20 21 22 23]\n"
       ]
      }
     ],
     "prompt_number": 23
    },
    {
     "cell_type": "code",
     "collapsed": false,
     "input": [
      "# Pick the last element\n",
      "print s1[-1]"
     ],
     "language": "python",
     "metadata": {},
     "outputs": [
      {
       "output_type": "stream",
       "stream": "stdout",
       "text": [
        "24\n"
       ]
      }
     ],
     "prompt_number": 24
    },
    {
     "cell_type": "code",
     "collapsed": false,
     "input": [
      "# Pick intermediate elements\n",
      "print s1[5:10]"
     ],
     "language": "python",
     "metadata": {},
     "outputs": [
      {
       "output_type": "stream",
       "stream": "stdout",
       "text": [
        "[5 6 7 8 9]\n"
       ]
      }
     ],
     "prompt_number": 25
    },
    {
     "cell_type": "code",
     "collapsed": false,
     "input": [
      "# Pick elements skipping steps\n",
      "print s1[0:20:3]"
     ],
     "language": "python",
     "metadata": {},
     "outputs": [
      {
       "output_type": "stream",
       "stream": "stdout",
       "text": [
        "[ 0  3  6  9 12 15 18]\n"
       ]
      }
     ],
     "prompt_number": 26
    },
    {
     "cell_type": "code",
     "collapsed": false,
     "input": [
      "# Concatenate vectors\n",
      "print np.append([1,2,3,4,5], [6,7,8,9,10])"
     ],
     "language": "python",
     "metadata": {},
     "outputs": [
      {
       "output_type": "stream",
       "stream": "stdout",
       "text": [
        "[ 1  2  3  4  5  6  7  8  9 10]\n"
       ]
      }
     ],
     "prompt_number": 27
    },
    {
     "cell_type": "markdown",
     "metadata": {},
     "source": [
      "Random numbers"
     ]
    },
    {
     "cell_type": "code",
     "collapsed": false,
     "input": [
      "# A random float and integer\n",
      "print np.random.rand(), np.random.randint(0, 100)"
     ],
     "language": "python",
     "metadata": {},
     "outputs": [
      {
       "output_type": "stream",
       "stream": "stdout",
       "text": [
        "0.257732192474 99\n"
       ]
      }
     ],
     "prompt_number": 28
    },
    {
     "cell_type": "code",
     "collapsed": false,
     "input": [
      "# A vector of random integers\n",
      "print np.random.randint(0, 100, 15)"
     ],
     "language": "python",
     "metadata": {},
     "outputs": [
      {
       "output_type": "stream",
       "stream": "stdout",
       "text": [
        "[12 39 45 22 34 40 38 88 41 66 83 96 28 66 83]\n"
       ]
      }
     ],
     "prompt_number": 29
    },
    {
     "cell_type": "code",
     "collapsed": false,
     "input": [
      "# A vector of normally distributed random numbers\n",
      "print np.random.randn(15)"
     ],
     "language": "python",
     "metadata": {},
     "outputs": [
      {
       "output_type": "stream",
       "stream": "stdout",
       "text": [
        "[ 0.50380482 -1.79325557  1.2501926   0.69349526  1.7519472   1.44414365\n",
        "  0.04392721  0.10379306  1.45631698 -1.35591422 -0.1161061   1.34145417\n",
        "  0.97268732 -0.85304105 -0.05418127]\n"
       ]
      }
     ],
     "prompt_number": 30
    },
    {
     "cell_type": "code",
     "collapsed": false,
     "input": [
      "# A vector of Zipf-distributed random numbers\n",
      "zv = np.random.zipf(2, 25)\n",
      "print zv"
     ],
     "language": "python",
     "metadata": {},
     "outputs": [
      {
       "output_type": "stream",
       "stream": "stdout",
       "text": [
        "[1 3 1 3 2 2 1 1 1 1 1 1 2 1 1 2 1 1 2 2 1 1 2 3 1]\n"
       ]
      }
     ],
     "prompt_number": 31
    },
    {
     "cell_type": "code",
     "collapsed": false,
     "input": [
      "# Sort a vector and then shuffle it\n",
      "print zv\n",
      "print np.sort(zv)\n",
      "np.random.shuffle(zv)\n",
      "print zv"
     ],
     "language": "python",
     "metadata": {},
     "outputs": [
      {
       "output_type": "stream",
       "stream": "stdout",
       "text": [
        "[1 3 1 3 2 2 1 1 1 1 1 1 2 1 1 2 1 1 2 2 1 1 2 3 1]\n",
        "[1 1 1 1 1 1 1 1 1 1 1 1 1 1 1 2 2 2 2 2 2 2 3 3 3]\n",
        "[2 1 2 1 3 1 1 1 1 3 1 1 1 2 1 1 3 2 1 1 2 1 2 2 1]\n"
       ]
      }
     ],
     "prompt_number": 32
    },
    {
     "cell_type": "markdown",
     "metadata": {},
     "source": [
      "Logical indexing"
     ]
    },
    {
     "cell_type": "code",
     "collapsed": false,
     "input": [
      "zv = np.random.zipf(2, 1000)"
     ],
     "language": "python",
     "metadata": {},
     "outputs": [],
     "prompt_number": 33
    },
    {
     "cell_type": "code",
     "collapsed": false,
     "input": [
      "# Get all values greater than 100\n",
      "print zv[zv>100]"
     ],
     "language": "python",
     "metadata": {},
     "outputs": [
      {
       "output_type": "stream",
       "stream": "stdout",
       "text": [
        "[ 210  594  174  174  147  396 1406 6873]\n"
       ]
      }
     ],
     "prompt_number": 34
    },
    {
     "cell_type": "code",
     "collapsed": false,
     "input": [
      "# Sum all numbers smaller than 5\n",
      "print np.sum(zv[zv<5])"
     ],
     "language": "python",
     "metadata": {},
     "outputs": [
      {
       "output_type": "stream",
       "stream": "stdout",
       "text": [
        "1228\n"
       ]
      }
     ],
     "prompt_number": 35
    },
    {
     "cell_type": "code",
     "collapsed": false,
     "input": [
      "# Get the index of all elements that equal 10\n",
      "print np.where(zv==10)"
     ],
     "language": "python",
     "metadata": {},
     "outputs": [
      {
       "output_type": "stream",
       "stream": "stdout",
       "text": [
        "(array([203, 633, 859]),)\n"
       ]
      }
     ],
     "prompt_number": 36
    },
    {
     "cell_type": "markdown",
     "metadata": {},
     "source": [
      "Linear algebra"
     ]
    },
    {
     "cell_type": "code",
     "collapsed": false,
     "input": [
      "# We can also declare matrices:\n",
      "M = np.array([[1, 2, 3], [4, 5, 6], [7, 8, 9]])"
     ],
     "language": "python",
     "metadata": {},
     "outputs": [],
     "prompt_number": 37
    },
    {
     "cell_type": "code",
     "collapsed": false,
     "input": [
      "# Matrix selection:\n",
      "\n",
      "# Single element\n",
      "\n",
      "print \"First element:,\", M[0,0] \n",
      "print \"Alternatively,\", M[0][0]\n",
      "\n",
      "# Row:\n",
      "print \"First row:\", M[0]\n",
      "\n",
      "# Column:\n",
      "print \"First column:\", M[:,0]\n",
      "\n",
      "#Slices:\n",
      "print \"First two columns:\"\n",
      "print M[:,:2]\n",
      "\n",
      "# Properties:\n",
      "print \"Shape: \", M.shape\n",
      "print \"Size: \", M.size\n",
      "print \"Number of dimensions: \", M.ndim"
     ],
     "language": "python",
     "metadata": {},
     "outputs": [
      {
       "output_type": "stream",
       "stream": "stdout",
       "text": [
        "First element:, 1\n",
        "Alternatively, 1\n",
        "First row: [1 2 3]\n",
        "First column: [1 4 7]\n",
        "First two columns:\n",
        "[[1 2]\n",
        " [4 5]\n",
        " [7 8]]\n",
        "Shape:  (3, 3)\n",
        "Size:  9\n",
        "Number of dimensions:  2\n"
       ]
      }
     ],
     "prompt_number": 38
    },
    {
     "cell_type": "code",
     "collapsed": false,
     "input": [
      "# Matrix-vector products\n",
      "print np.dot(M, v1)\n",
      "print np.dot(v1, M)"
     ],
     "language": "python",
     "metadata": {},
     "outputs": [
      {
       "output_type": "stream",
       "stream": "stdout",
       "text": [
        "[14 32 50]\n",
        "[30 36 42]\n"
       ]
      }
     ],
     "prompt_number": 39
    },
    {
     "cell_type": "markdown",
     "metadata": {},
     "source": [
      "Loading data from a text file:\n",
      "\n",
      "(data source: http://www.the-numbers.com/movies/records/allbudgets.php)"
     ]
    },
    {
     "cell_type": "code",
     "collapsed": false,
     "input": [
      "!head MovieData.csv"
     ],
     "language": "python",
     "metadata": {},
     "outputs": [
      {
       "output_type": "stream",
       "stream": "stdout",
       "text": [
        "Release_Date\tMovie\tDistributor\tBudget\tUS\u00a0Gross\tWorldwide Gross\r\n",
        "03/09/12\tJohn Carter\t\t300000000\t66439100\t254439100\r\n",
        "05/25/07\tPirates of the Caribbean: At World's End\tBuena Vista\t300000000\t309420425\t960996492\r\n",
        "12/13/13\tThe Hobbit: There and Back Again\tNew Line\t270000000\tUnknown\tUnknown\r\n",
        "12/14/12\tThe Hobbit: An Unexpected Journey\tNew Line\t270000000\tUnknown\tUnknown\r\n",
        "11/24/10\tTangled\tBuena Vista\t260000000\t200821936\t586581936\r\n",
        "05/04/07\tSpider-Man 3\tSony\t258000000\t336530303\t890875303\r\n",
        "07/15/09\tHarry Potter and the Half-Blood Prince\tWarner Bros.\t250000000\t301959197\t934416487\r\n",
        "05/20/11\tPirates of the Caribbean: On Stranger Tides\tBuena Vista\t250000000\t241063875\t1043663875\r\n",
        "07/20/12\tThe Dark Knight Rises\t\t250000000\tUnknown\tUnknown\r\n"
       ]
      }
     ],
     "prompt_number": 40
    },
    {
     "cell_type": "code",
     "collapsed": false,
     "input": [
      "dtypes = [('Release_Date', np.str_, 16), ('Movie', np.str_, 16), ('Distributor', np.str_, 16), ('Budget', '<f8'), ('US_Gross', '<f8'), ('Worldwide_Gross', '<f8')]\n",
      "data = np.genfromtxt(\"MovieData.csv\", delimiter='\\t', dtype=dtypes, skip_header=1, missing=\"Unknown\")"
     ],
     "language": "python",
     "metadata": {},
     "outputs": [],
     "prompt_number": 41
    },
    {
     "cell_type": "code",
     "collapsed": false,
     "input": [
      "print data[\"Movie\"]\n",
      "print data[\"Budget\"]"
     ],
     "language": "python",
     "metadata": {},
     "outputs": [
      {
       "output_type": "stream",
       "stream": "stdout",
       "text": [
        "['John Carter' 'Pirates of the C' 'The Hobbit: Ther' ..., 'Following'\n",
        " 'Return to the La' 'My Date With Dre']\n",
        "[  3.00000000e+08   3.00000000e+08   2.70000000e+08 ...,   6.00000000e+03\n",
        "   5.00000000e+03   1.10000000e+03]\n"
       ]
      }
     ],
     "prompt_number": 42
    },
    {
     "cell_type": "code",
     "collapsed": false,
     "input": [
      "data = np.genfromtxt(\"MovieData.csv\", delimiter='\\t', names=True, usecols=(3,4,5), missing=\"Unknown\")"
     ],
     "language": "python",
     "metadata": {},
     "outputs": [],
     "prompt_number": 43
    },
    {
     "cell_type": "code",
     "collapsed": false,
     "input": [
      "data"
     ],
     "language": "python",
     "metadata": {},
     "outputs": [
      {
       "output_type": "pyout",
       "prompt_number": 44,
       "text": [
        "array([(300000000.0, 66439100.0, 254439100.0),\n",
        "       (300000000.0, 309420425.0, 960996492.0), (270000000.0, nan, nan),\n",
        "       ..., (6000.0, 48482.0, 240495.0), (5000.0, 1338.0, nan),\n",
        "       (1100.0, 181041.0, nan)], \n",
        "      dtype=[('Budget', '<f8'), ('US\\xc2\\xa0Gross', '<f8'), ('Worldwide_Gross', '<f8')])"
       ]
      }
     ],
     "prompt_number": 44
    },
    {
     "cell_type": "code",
     "collapsed": false,
     "input": [
      "budget, us_gross, world_gross = np.genfromtxt(\"MovieData.csv\", delimiter='\\t', \n",
      "        skip_header=1, usecols=(3,4,5), unpack=True, missing=\"Unknown\")"
     ],
     "language": "python",
     "metadata": {},
     "outputs": [],
     "prompt_number": 45
    },
    {
     "cell_type": "code",
     "collapsed": false,
     "input": [
      "print \"Mean movie budget:\", budget.mean()\n",
      "print \"Movie budget standard deviation:\", budget.std()\n",
      "print \"Median movie budget:\", np.median(budget) # Note, no built-in mean function\n"
     ],
     "language": "python",
     "metadata": {},
     "outputs": [
      {
       "output_type": "stream",
       "stream": "stdout",
       "text": [
        "Mean movie budget: 31570720.099\n",
        "Movie budget standard deviation: 37565581.4471\n",
        "Median movie budget: 19000000.0\n"
       ]
      }
     ],
     "prompt_number": 46
    },
    {
     "cell_type": "code",
     "collapsed": false,
     "input": [
      "profit = (us_gross + world_gross)/budget\n",
      "print \"Mean profit: \", profit.mean()"
     ],
     "language": "python",
     "metadata": {},
     "outputs": [
      {
       "output_type": "stream",
       "stream": "stdout",
       "text": [
        "Mean profit:  nan\n"
       ]
      }
     ],
     "prompt_number": 47
    },
    {
     "cell_type": "code",
     "collapsed": false,
     "input": [
      "print profit\n",
      "print np.isnan(profit)"
     ],
     "language": "python",
     "metadata": {},
     "outputs": [
      {
       "output_type": "stream",
       "stream": "stdout",
       "text": [
        "[  1.069594     4.23472306          nan ...,  48.16283333          nan\n",
        "          nan]\n",
        "[False False  True ..., False  True  True]\n"
       ]
      }
     ],
     "prompt_number": 48
    },
    {
     "cell_type": "code",
     "collapsed": false,
     "input": [
      "budget_clean = budget[~np.isnan(profit)]\n",
      "profit_clean = profit[~np.isnan(profit)]"
     ],
     "language": "python",
     "metadata": {},
     "outputs": [],
     "prompt_number": 49
    },
    {
     "cell_type": "code",
     "collapsed": false,
     "input": [
      "print profit_clean.max()\n",
      "print profit_clean.mean()\n",
      "print profit_clean.min()"
     ],
     "language": "python",
     "metadata": {},
     "outputs": [
      {
       "output_type": "stream",
       "stream": "stdout",
       "text": [
        "20306.6977333\n",
        "17.4784661837\n",
        "0.002115\n"
       ]
      }
     ],
     "prompt_number": 50
    },
    {
     "cell_type": "markdown",
     "metadata": {},
     "source": [
      "Matplotlib\n",
      "----------\n",
      "\n",
      "matplotlib is the main graphing and chart library in Python. To use it with IPython, we either need to launch it with the command\n",
      "\n",
      "    ipython notebook --pylab inline\n",
      "\n",
      "Or else use the following magic function:"
     ]
    },
    {
     "cell_type": "code",
     "collapsed": false,
     "input": [
      "import matplotlib.pyplot as plt"
     ],
     "language": "python",
     "metadata": {},
     "outputs": [],
     "prompt_number": 51
    },
    {
     "cell_type": "code",
     "collapsed": false,
     "input": [
      "%pylab inline"
     ],
     "language": "python",
     "metadata": {},
     "outputs": [
      {
       "output_type": "stream",
       "stream": "stdout",
       "text": [
        "\n",
        "Welcome to pylab, a matplotlib-based Python environment [backend: module://IPython.zmq.pylab.backend_inline].\n",
        "For more information, type 'help(pylab)'.\n"
       ]
      }
     ],
     "prompt_number": 52
    },
    {
     "cell_type": "code",
     "collapsed": false,
     "input": [
      "plt.hist(budget_clean)"
     ],
     "language": "python",
     "metadata": {},
     "outputs": [
      {
       "output_type": "pyout",
       "prompt_number": 53,
       "text": [
        "(array([1291,  537,  276,   98,   69,   27,   20,    5,    4,    2]),\n",
        " array([  6.00000000e+03,   3.00054000e+07,   6.00048000e+07,\n",
        "         9.00042000e+07,   1.20003600e+08,   1.50003000e+08,\n",
        "         1.80002400e+08,   2.10001800e+08,   2.40001200e+08,\n",
        "         2.70000600e+08,   3.00000000e+08]),\n",
        " <a list of 10 Patch objects>)"
       ]
      },
      {
       "output_type": "display_data",
       "png": "[encoded data removed]"
      }
     ],
     "prompt_number": 53
    },
    {
     "cell_type": "code",
     "collapsed": false,
     "input": [
      "plt.scatter(budget_clean, profit_clean)\n",
      "plt.ylim(0,20)\n",
      "plt.xlim(0,3e8)\n",
      "plt.xlabel(\"Budget\")\n",
      "plt.ylabel(\"Profit\")"
     ],
     "language": "python",
     "metadata": {},
     "outputs": [
      {
       "output_type": "pyout",
       "prompt_number": 54,
       "text": [
        "<matplotlib.text.Text at 0x11adf2350>"
       ]
      },
      {
       "output_type": "display_data",
       "png": "[encoded data removed]"
      }
     ],
     "prompt_number": 54
    },
    {
     "cell_type": "code",
     "collapsed": false,
     "input": [
      "# Better practice is to create figures, subplots:\n",
      "fig1 = plt.figure(figsize=(8,4)) # Set the figure size in inches\n",
      "subplot1 = plt.subplot(1,2,1) # Num rows, Num Columns, index)\n",
      "plot1 = subplot1.hist(budget_clean)\n",
      "subplot1.set_xlabel(\"Budget\")\n",
      "\n",
      "subplot2 = plt.subplot(1,2,2)\n",
      "plot2 = subplot2.hist(profit_clean, bins=np.linspace(0,20))\n",
      "subplot2.set_xlabel(\"Profit\")\n"
     ],
     "language": "python",
     "metadata": {},
     "outputs": [
      {
       "output_type": "pyout",
       "prompt_number": 55,
       "text": [
        "<matplotlib.text.Text at 0x11ad5b850>"
       ]
      },
      {
       "output_type": "display_data",
       "png": "[encoded data removed]"
      }
     ],
     "prompt_number": 55
    },
    {
     "cell_type": "markdown",
     "metadata": {},
     "source": [
      "NumPy + SciPy + Matplotlib\n",
      "--------------------------------------------"
     ]
    },
    {
     "cell_type": "raw",
     "metadata": {},
     "source": [
      "We will try to put in practice these tools by proessing some data, estimating distributions, plotting them, and exporting the results."
     ]
    },
    {
     "cell_type": "code",
     "collapsed": false,
     "input": [
      "# Load data\n",
      "ids, groups = np.genfromtxt(\"groupsData.csv\", delimiter=',', skip_header=1, unpack=True)"
     ],
     "language": "python",
     "metadata": {},
     "outputs": [],
     "prompt_number": 56
    },
    {
     "cell_type": "code",
     "collapsed": false,
     "input": [
      "# Get unique ids of the groups\n",
      "uGroups = np.unique(groups)"
     ],
     "language": "python",
     "metadata": {},
     "outputs": [],
     "prompt_number": 57
    },
    {
     "cell_type": "code",
     "collapsed": false,
     "input": [
      "# Compute the size of groups using histogram\n",
      "h = np.histogram(groups, np.append(uGroups, np.max(uGroups)+1))\n",
      "sizes = h[0]"
     ],
     "language": "python",
     "metadata": {},
     "outputs": [],
     "prompt_number": 58
    },
    {
     "cell_type": "code",
     "collapsed": false,
     "input": [
      "# Get unique sizes\n",
      "uSizes = np.unique(sizes)"
     ],
     "language": "python",
     "metadata": {},
     "outputs": [],
     "prompt_number": 59
    },
    {
     "cell_type": "code",
     "collapsed": false,
     "input": [
      "# Get compute the frequencies of sizes\n",
      "h = np.histogram(sizes, np.append(uSizes, np.max(uSizes)+1))\n",
      "freqs = h[0]"
     ],
     "language": "python",
     "metadata": {},
     "outputs": [],
     "prompt_number": 60
    },
    {
     "cell_type": "code",
     "collapsed": false,
     "input": [
      "# Plot data points\n",
      "fig = plt.figure(figsize=(4,4))\n",
      "plt.loglog(uSizes, freqs, '.', markersize=10)"
     ],
     "language": "python",
     "metadata": {},
     "outputs": [
      {
       "output_type": "pyout",
       "prompt_number": 61,
       "text": [
        "[<matplotlib.lines.Line2D at 0x11af65b10>]"
       ]
      },
      {
       "output_type": "display_data",
       "png": "[encoded data removed]"
      }
     ],
     "prompt_number": 61
    },
    {
     "cell_type": "code",
     "collapsed": false,
     "input": [
      "# Truncate tail data\n",
      "sizes = sizes[sizes<100]\n",
      "uSizes = np.unique(sizes)\n",
      "h = np.histogram(sizes, np.append(uSizes, np.max(uSizes)+1))\n",
      "freqs = h[0]"
     ],
     "language": "python",
     "metadata": {},
     "outputs": [],
     "prompt_number": 62
    },
    {
     "cell_type": "code",
     "collapsed": false,
     "input": [
      "# Plot data points\n",
      "fig = plt.figure(figsize=(4,4))\n",
      "plt.loglog(uSizes, freqs, '.', markersize=10)"
     ],
     "language": "python",
     "metadata": {},
     "outputs": [
      {
       "output_type": "pyout",
       "prompt_number": 63,
       "text": [
        "[<matplotlib.lines.Line2D at 0x11dc2f710>]"
       ]
      },
      {
       "output_type": "display_data",
       "png": "[encoded data removed]"
      }
     ],
     "prompt_number": 63
    },
    {
     "cell_type": "code",
     "collapsed": false,
     "input": [
      "# Plot empirical cumulative distribution\n",
      "y1 = 1.0*freqs/np.sum(freqs)\n",
      "y2 = np.cumsum(y1[::-1])\n",
      "y3 = y2[::-1]\n",
      "\n",
      "fig = plt.figure(figsize=(4,4))\n",
      "plt.loglog(uSizes, y3, '.', markersize=10)\n",
      "plt.ylim([np.min(y3), 1])"
     ],
     "language": "python",
     "metadata": {},
     "outputs": [
      {
       "output_type": "pyout",
       "prompt_number": 64,
       "text": [
        "(0.00020153164046755341, 1)"
       ]
      },
      {
       "output_type": "display_data",
       "png": "[encoded data removed]"
      }
     ],
     "prompt_number": 64
    },
    {
     "cell_type": "code",
     "collapsed": false,
     "input": [
      "# Instantiate objetcs of distributions\n",
      "dist1 = st.lognorm\n",
      "dist2 = st.pareto\n",
      "\n",
      "# Fit the distributions to the data\n",
      "par1 = dist1.fit(sizes)\n",
      "par2 = dist2.fit(sizes)\n",
      "\n",
      "print par1\n",
      "print par2"
     ],
     "language": "python",
     "metadata": {},
     "outputs": [
      {
       "output_type": "stream",
       "stream": "stdout",
       "text": [
        "(8.1548862488989684, 0.99999999999958278, 0.3222332834756535)\n",
        "(1.0, nan, 0.0)\n"
       ]
      },
      {
       "output_type": "stream",
       "stream": "stderr",
       "text": [
        "/Library/Python/2.7/site-packages/scipy-0.12.0.dev_ddd617d_20120725-py2.7-macosx-10.8-x86_64.egg/scipy/stats/distributions.py:1924: RuntimeWarning: invalid value encountered in double_scalars\n",
        "  Lhat = muhat - Shat*mu\n",
        "/Library/Python/2.7/site-packages/scipy-0.12.0.dev_ddd617d_20120725-py2.7-macosx-10.8-x86_64.egg/scipy/optimize/optimize.py:446: RuntimeWarning: invalid value encountered in absolute\n",
        "  if (max(numpy.ravel(abs(sim[1:] - sim[0]))) <= xtol \\\n"
       ]
      }
     ],
     "prompt_number": 65
    },
    {
     "cell_type": "code",
     "collapsed": false,
     "input": [
      "# Get theoretical CDFs\n",
      "pdf1 = dist1.pdf(uSizes, par1[0])\n",
      "pdf1 = pdf1/np.sum(pdf1)\n",
      "cdf1 = np.cumsum(pdf1[::-1])\n",
      "cdf1 = cdf1[::-1]\n",
      "\n",
      "pdf2 = dist2.pdf(uSizes, par2[0])\n",
      "pdf2 = pdf2/np.sum(pdf2)\n",
      "cdf2 = np.cumsum(pdf2[::-1])\n",
      "cdf2 = cdf2[::-1]\n",
      "\n",
      "fig = plt.figure(figsize=(4,4))\n",
      "plt.loglog(uSizes, y3, '.', markersize=10)\n",
      "plt.loglog(uSizes, cdf1)\n",
      "plt.loglog(uSizes, cdf2)\n",
      "plt.ylim([np.min(y3), 1])\n",
      "plt.gcf().subplots_adjust(left=0.15)\n",
      "plt.legend(['data', 'lognormal fit', 'pareto fit'], 3)\n",
      "plt.xlabel('Group Size')\n",
      "plt.ylabel('Pr[X'+u'\\N{GREATER-THAN OR EQUAL TO}'+'x]')\n",
      "plt.savefig('finalPlot.pdf')"
     ],
     "language": "python",
     "metadata": {},
     "outputs": [
      {
       "output_type": "display_data",
       "png": "[encoded data removed]"
      }
     ],
     "prompt_number": 66
    }
   ],
   "metadata": {}
  }
 ]
}